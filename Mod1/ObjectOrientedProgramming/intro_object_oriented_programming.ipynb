{
 "cells": [
  {
   "cell_type": "markdown",
   "metadata": {
    "colab_type": "text",
    "heading_collapsed": true,
    "id": "tevYHP-_8og5"
   },
   "source": [
    "# Intro to Object Oriented Programming"
   ]
  },
  {
   "cell_type": "markdown",
   "metadata": {
    "colab_type": "text",
    "heading_collapsed": true,
    "hidden": true,
    "id": "KhOoAnWZ87vZ"
   },
   "source": [
    "## How is/was programming structured?"
   ]
  },
  {
   "cell_type": "markdown",
   "metadata": {
    "colab_type": "text",
    "hidden": true,
    "id": "K1uNhiKylQkL"
   },
   "source": [
    "* Procedural: Just a bunch of code (runs downward) \n",
    "  - C, Lisp, Fortran \n",
    "  - GOTO\n",
    "* Functional: more mathematical\n",
    "  - Haskell, OCaml\n",
    "* OOP\n",
    "  - Java, Python, JavaScript"
   ]
  },
  {
   "cell_type": "markdown",
   "metadata": {
    "colab_type": "text",
    "heading_collapsed": true,
    "hidden": true,
    "id": "okWV1Dr4-mei"
   },
   "source": [
    "## What is OOP?"
   ]
  },
  {
   "cell_type": "markdown",
   "metadata": {
    "colab_type": "text",
    "heading_collapsed": true,
    "hidden": true,
    "id": "_OUAUdF5-p-x"
   },
   "source": [
    "### Uses the concept of \"objects\" & \"classes\""
   ]
  },
  {
   "cell_type": "markdown",
   "metadata": {
    "colab_type": "text",
    "hidden": true,
    "id": "GSxOdT-X-yCp"
   },
   "source": [
    "### Using a mold or blueprint"
   ]
  },
  {
   "cell_type": "markdown",
   "metadata": {
    "colab_type": "text",
    "hidden": true,
    "id": "6JCIWmq4qaMQ"
   },
   "source": [
    "<img src='https://www.assignmenthelp.net/assignment_help/images/class-oops.jpg' width=75%/>"
   ]
  },
  {
   "cell_type": "markdown",
   "metadata": {
    "colab_type": "text",
    "hidden": true,
    "id": "XLR8-pxpqgg_"
   },
   "source": [
    "<img src='http://www.expertphp.in/images/articles/ArtImgC67UTd_classes_and_objects.jpg' width=75%/>"
   ]
  },
  {
   "cell_type": "markdown",
   "metadata": {
    "colab_type": "text",
    "hidden": true,
    "id": "xgb4UxV__jQT"
   },
   "source": [
    "### Attributes of a Class Give Attributes to an Object"
   ]
  },
  {
   "cell_type": "markdown",
   "metadata": {
    "colab_type": "text",
    "heading_collapsed": true,
    "hidden": true,
    "id": "HneufhC69D2K"
   },
   "source": [
    "## Why OOP?\n",
    "\n",
    "Cool, but why should *I* care?"
   ]
  },
  {
   "cell_type": "markdown",
   "metadata": {
    "colab_type": "text",
    "hidden": true,
    "id": "uLnT7iyo-B0e"
   },
   "source": [
    "### Well, everyone is doing it!\n"
   ]
  },
  {
   "cell_type": "markdown",
   "metadata": {
    "colab_type": "text",
    "hidden": true,
    "id": "pwCs4mdnrHmV"
   },
   "source": [
    "<img src='https://stackify.com/wp-content/uploads/2017/12/Copy-of-top-programming-languages-1.png' width=70%/>"
   ]
  },
  {
   "cell_type": "markdown",
   "metadata": {
    "colab_type": "text",
    "hidden": true,
    "id": "ms3IyEcA-I-W"
   },
   "source": [
    "### A method (no pun intended) to organize your code with an analogy"
   ]
  },
  {
   "cell_type": "markdown",
   "metadata": {
    "colab_type": "text",
    "hidden": true,
    "id": "2n88FbpfrTF-"
   },
   "source": [
    "We all know what ***Things*** are\n",
    "\n",
    "Easier to breakdown into physical items, activities, concepts [**nouns**]"
   ]
  },
  {
   "cell_type": "markdown",
   "metadata": {
    "colab_type": "text",
    "hidden": true,
    "id": "oREms3u3-Q6L"
   },
   "source": [
    "### Flexible"
   ]
  },
  {
   "cell_type": "markdown",
   "metadata": {
    "colab_type": "text",
    "heading_collapsed": true,
    "id": "GPjnI6jk8tzZ"
   },
   "source": [
    "# Classes & Instances"
   ]
  },
  {
   "cell_type": "markdown",
   "metadata": {
    "colab_type": "text",
    "heading_collapsed": true,
    "hidden": true,
    "id": "LOSB70AC_F55"
   },
   "source": [
    "### Creating a Class\n",
    "\n",
    "Class == Blueprint or Mold\n",
    "\n",
    "Instance (your Object) is made from the mold but she's still and individual separate from others made from the same mold"
   ]
  },
  {
   "cell_type": "markdown",
   "metadata": {
    "colab_type": "text",
    "hidden": true,
    "id": "032liMjNrvmQ"
   },
   "source": [
    "### Simple Code"
   ]
  },
  {
   "cell_type": "code",
   "execution_count": 1,
   "metadata": {
    "colab": {},
    "colab_type": "code",
    "hidden": true,
    "id": "1cJl2ydsrtp8"
   },
   "outputs": [],
   "source": [
    "class Robot():\n",
    "  # Essentially a blank template since we never defined any attributes\n",
    "  pass\n"
   ]
  },
  {
   "cell_type": "code",
   "execution_count": 2,
   "metadata": {
    "colab": {},
    "colab_type": "code",
    "hidden": true,
    "id": "BFeR2Q-hsArS"
   },
   "outputs": [],
   "source": [
    "# Give it life!\n",
    "my_robot = Robot()\n",
    "my_robot.name = 'Wall-E'\n",
    "my_robot.height = 100  # cm\n",
    "\n",
    "your_robot = Robot()\n",
    "your_robot.name = 'Rob'\n",
    "your_robot.height = 200 # cm"
   ]
  },
  {
   "cell_type": "code",
   "execution_count": 3,
   "metadata": {
    "colab": {
     "base_uri": "https://localhost:8080/",
     "height": 51
    },
    "colab_type": "code",
    "hidden": true,
    "id": "A30Q95gusS8U",
    "outputId": "fc8bf769-1142-4ca3-e614-e6097fad9e16"
   },
   "outputs": [
    {
     "name": "stdout",
     "output_type": "stream",
     "text": [
      "Wall-E 100\n",
      "Rob 200\n"
     ]
    }
   ],
   "source": [
    "# They live!!!!!\n",
    "print(my_robot.name, my_robot.height)\n",
    "print(your_robot.name, your_robot.height)"
   ]
  },
  {
   "cell_type": "code",
   "execution_count": 4,
   "metadata": {
    "colab": {
     "base_uri": "https://localhost:8080/",
     "height": 164
    },
    "colab_type": "code",
    "hidden": true,
    "id": "SAatCwJWsi44",
    "outputId": "5f170686-c666-4997-f47b-1e36cc8b25fa"
   },
   "outputs": [
    {
     "ename": "AttributeError",
     "evalue": "'Robot' object has no attribute 'purpose'",
     "output_type": "error",
     "traceback": [
      "\u001b[0;31m---------------------------------------------------------------------------\u001b[0m",
      "\u001b[0;31mAttributeError\u001b[0m                            Traceback (most recent call last)",
      "\u001b[0;32m<ipython-input-4-17cc43eb6f1c>\u001b[0m in \u001b[0;36m<module>\u001b[0;34m()\u001b[0m\n\u001b[1;32m      1\u001b[0m \u001b[0;31m# Uh oh, we didn't give it this attribute\u001b[0m\u001b[0;34m\u001b[0m\u001b[0;34m\u001b[0m\u001b[0m\n\u001b[0;32m----> 2\u001b[0;31m \u001b[0mprint\u001b[0m\u001b[0;34m(\u001b[0m\u001b[0mmy_robot\u001b[0m\u001b[0;34m.\u001b[0m\u001b[0mpurpose\u001b[0m\u001b[0;34m)\u001b[0m\u001b[0;34m\u001b[0m\u001b[0m\n\u001b[0m",
      "\u001b[0;31mAttributeError\u001b[0m: 'Robot' object has no attribute 'purpose'"
     ]
    }
   ],
   "source": [
    "# Uh oh, we didn't give it this attribute\n",
    "print(my_robot.purpose)"
   ]
  },
  {
   "cell_type": "markdown",
   "metadata": {
    "colab_type": "text",
    "hidden": true,
    "id": "wXk49lOwr8Qt"
   },
   "source": [
    "### Make a better Class/Mold/Blueprint"
   ]
  },
  {
   "cell_type": "code",
   "execution_count": 5,
   "metadata": {
    "colab": {},
    "colab_type": "code",
    "hidden": true,
    "id": "lSKLy546sKbE"
   },
   "outputs": [],
   "source": [
    "class Robot():\n",
    "  # All robots should love humans\n",
    "  purpose = 'To love humans'"
   ]
  },
  {
   "cell_type": "code",
   "execution_count": 6,
   "metadata": {
    "colab": {},
    "colab_type": "code",
    "hidden": true,
    "id": "p-L0uMMYs2l7"
   },
   "outputs": [],
   "source": [
    "# Give it life!\n",
    "my_robot = Robot()\n",
    "my_robot.name = 'Wall-E'\n",
    "my_robot.height = 100  # cm\n",
    "\n",
    "your_robot = Robot()\n",
    "your_robot.name = 'Rob'\n",
    "your_robot.height = 200 # cm"
   ]
  },
  {
   "cell_type": "code",
   "execution_count": 7,
   "metadata": {
    "colab": {
     "base_uri": "https://localhost:8080/",
     "height": 68
    },
    "colab_type": "code",
    "hidden": true,
    "id": "ta3gZ8wWs5AC",
    "outputId": "072c3893-4d64-4451-9637-f93e81938775"
   },
   "outputs": [
    {
     "name": "stdout",
     "output_type": "stream",
     "text": [
      "What is your purpose?\n",
      "\n",
      "To love humans\n"
     ]
    }
   ],
   "source": [
    "print('What is your purpose?\\n')\n",
    "print(my_robot.purpose)"
   ]
  },
  {
   "cell_type": "code",
   "execution_count": 8,
   "metadata": {
    "colab": {
     "base_uri": "https://localhost:8080/",
     "height": 68
    },
    "colab_type": "code",
    "hidden": true,
    "id": "oIYEOFQMtP_u",
    "outputId": "7c49aaa6-aa6f-452d-830d-d439283b89c4"
   },
   "outputs": [
    {
     "name": "stdout",
     "output_type": "stream",
     "text": [
      "What is your name and your purpose?\n",
      "\n",
      "My name is Bender and my purpose is TO KILL ALL HUMANS!!!\n"
     ]
    }
   ],
   "source": [
    "# Rogue robot!!!\n",
    "evil_robot = Robot()\n",
    "evil_robot.name = 'Bender'\n",
    "evil_robot.purpose = 'TO KILL ALL HUMANS!!!'\n",
    "\n",
    "print('What is your name and your purpose?\\n')\n",
    "print(f'My name is {evil_robot.name} and my purpose is {evil_robot.purpose}')"
   ]
  },
  {
   "cell_type": "markdown",
   "metadata": {
    "colab_type": "text",
    "hidden": true,
    "id": "TXLmvlT__K9y"
   },
   "source": [
    "### Instantiating an Object (using our mold)"
   ]
  },
  {
   "cell_type": "markdown",
   "metadata": {
    "colab_type": "text",
    "hidden": true,
    "id": "I6d-VcuulhDy"
   },
   "source": [
    "#### Example Code\n"
   ]
  },
  {
   "cell_type": "code",
   "execution_count": 11,
   "metadata": {
    "colab": {},
    "colab_type": "code",
    "hidden": true,
    "id": "Wq53m6lEliok"
   },
   "outputs": [],
   "source": [
    "#why is this useful? We can give properties to object and then compare\n",
    "my_robot = Robot()\n",
    "my_robot.name = 'Wall-E'\n",
    "my_robot.height = 100  # cm\n",
    "my_robot.color = 'yellow'\n",
    "\n",
    "your_robot = Robot()\n",
    "your_robot.name = 'Rob'\n",
    "your_robot.height = 200 # cm\n",
    "your_robot.color = 'gray'"
   ]
  },
  {
   "cell_type": "code",
   "execution_count": 10,
   "metadata": {
    "colab": {
     "base_uri": "https://localhost:8080/",
     "height": 34
    },
    "colab_type": "code",
    "hidden": true,
    "id": "4GTuL4aImMW4",
    "outputId": "4dad34e4-8e2f-45b5-96f5-3bff5cf76765"
   },
   "outputs": [
    {
     "name": "stdout",
     "output_type": "stream",
     "text": [
      "Rob is the tallest bot at 200 cm\n"
     ]
    }
   ],
   "source": [
    "# Who's taller?\n",
    "\n",
    "# Tie defaults to my bot 😁\n",
    "tall_bot = my_robot if my_robot.height >= your_robot.height else your_robot #saves the object into tall_bot\n",
    "\n",
    "# Alternative code\n",
    "## if my_robot.height >= your_robot.height:\n",
    "##     tall_bot = my_robot\n",
    "## else:\n",
    "##     tall_bot = your_robot\n",
    "\n",
    "print(f'{tall_bot.name} is the tallest bot at {tall_bot.height} cm')"
   ]
  },
  {
   "cell_type": "markdown",
   "metadata": {
    "colab_type": "text",
    "hidden": true,
    "id": "Ee-dPiBt_UzL"
   },
   "source": [
    "### You're both people, so you must be the same person, right?"
   ]
  },
  {
   "cell_type": "code",
   "execution_count": 12,
   "metadata": {
    "colab": {
     "base_uri": "https://localhost:8080/",
     "height": 68
    },
    "colab_type": "code",
    "hidden": true,
    "id": "AsR5SjyZoGkO",
    "outputId": "c249fe22-6f49-4d8b-e8d9-a942298493d8"
   },
   "outputs": [
    {
     "name": "stdout",
     "output_type": "stream",
     "text": [
      "Where are you (in memory)?\n",
      "<__main__.Robot object at 0x10f750c50>\n",
      "<__main__.Robot object at 0x10f891978>\n"
     ]
    }
   ],
   "source": [
    "# You guys taking up my (memory) space. Where it sits in memory in the computer.\n",
    "print('Where are you (in memory)?')\n",
    "print(my_robot)\n",
    "print(your_robot)"
   ]
  },
  {
   "cell_type": "code",
   "execution_count": 13,
   "metadata": {
    "colab": {
     "base_uri": "https://localhost:8080/",
     "height": 68
    },
    "colab_type": "code",
    "hidden": true,
    "id": "dB4njJXQneG4",
    "outputId": "53373a24-edad-49e5-86e7-bdf92fd8ce91"
   },
   "outputs": [
    {
     "name": "stdout",
     "output_type": "stream",
     "text": [
      "Are you the same (using ==)? False\n",
      "Are you the same (using is)? False\n",
      "Are you yourself? True\n"
     ]
    }
   ],
   "source": [
    "# Are you the same..?\n",
    "print(f'Are you the same (using ==)? {my_robot == your_robot}')\n",
    "print(f'Are you the same (using is)? {my_robot is your_robot}') # \"is\" here is asking if they are equal, like ==\n",
    "print(f'Are you yourself? {my_robot == my_robot}')"
   ]
  },
  {
   "cell_type": "code",
   "execution_count": 14,
   "metadata": {
    "colab": {
     "base_uri": "https://localhost:8080/",
     "height": 85
    },
    "colab_type": "code",
    "hidden": true,
    "id": "hac7WhjruOPr",
    "outputId": "41980895-105f-44d8-f9c8-29f6436e372b"
   },
   "outputs": [
    {
     "name": "stdout",
     "output_type": "stream",
     "text": [
      "Are you the same (using ==)? False\n",
      "Are you the same (using is)? False\n",
      "<__main__.Robot object at 0x10f750f28>\n",
      "<__main__.Robot object at 0x10f750e80>\n"
     ]
    }
   ],
   "source": [
    "generic_robot0 = Robot()\n",
    "generic_robot1 = Robot()\n",
    "\n",
    "# Are you the same..? They look identical... Same properties, but they are individual different objects\n",
    "print(f'Are you the same (using ==)? {generic_robot0 == generic_robot1}')\n",
    "print(f'Are you the same (using is)? {generic_robot0 is generic_robot1}')\n",
    "\n",
    "print(generic_robot0)\n",
    "print(generic_robot1)\n"
   ]
  },
  {
   "cell_type": "code",
   "execution_count": 16,
   "metadata": {
    "colab": {
     "base_uri": "https://localhost:8080/",
     "height": 51
    },
    "colab_type": "code",
    "hidden": true,
    "id": "1Jo4mShFup3I",
    "outputId": "793337aa-d3d5-4d92-ed6c-e1c7d193ad1d"
   },
   "outputs": [
    {
     "name": "stdout",
     "output_type": "stream",
     "text": [
      "Are you the same (using ==)? True\n",
      "Are you the same (using is)? True\n"
     ]
    }
   ],
   "source": [
    "# You didn't make a copy. Different than twin, \"same_robot\" is pointing to generic_robot0\n",
    "same_robot = generic_robot0\n",
    "\n",
    "print(f'Are you the same (using ==)? {generic_robot0 == same_robot}')\n",
    "print(f'Are you the same (using is)? {generic_robot0 is same_robot}')\n",
    "\n"
   ]
  },
  {
   "cell_type": "code",
   "execution_count": 17,
   "metadata": {
    "colab": {
     "base_uri": "https://localhost:8080/",
     "height": 51
    },
    "colab_type": "code",
    "hidden": true,
    "id": "RFUpptCKjHuF",
    "outputId": "1cf04d51-1461-40da-f51b-b0d5b7f98406"
   },
   "outputs": [
    {
     "name": "stdout",
     "output_type": "stream",
     "text": [
      "<__main__.Robot object at 0x10f750f28>\n",
      "<__main__.Robot object at 0x10f750f28>\n"
     ]
    }
   ],
   "source": [
    "#same memory space\n",
    "print(same_robot)\n",
    "print(generic_robot0)"
   ]
  },
  {
   "cell_type": "code",
   "execution_count": 19,
   "metadata": {
    "colab": {
     "base_uri": "https://localhost:8080/",
     "height": 34
    },
    "colab_type": "code",
    "hidden": true,
    "id": "aTlJTfYHi14s",
    "outputId": "4b69aba4-b11c-4d93-ca78-599e419d2b4e"
   },
   "outputs": [
    {
     "name": "stdout",
     "output_type": "stream",
     "text": [
      "0001 0001\n"
     ]
    }
   ],
   "source": [
    "same_robot.name = '0001'\n",
    "\n",
    "print(same_robot.name, generic_robot0.name)"
   ]
  },
  {
   "cell_type": "code",
   "execution_count": null,
   "metadata": {},
   "outputs": [],
   "source": []
  },
  {
   "cell_type": "markdown",
   "metadata": {
    "colab_type": "text",
    "heading_collapsed": true,
    "id": "hikhGgfn8v-R"
   },
   "source": [
    "# An Object's Attributes: Methods, Variables, Self"
   ]
  },
  {
   "cell_type": "markdown",
   "metadata": {
    "colab_type": "text",
    "hidden": true,
    "id": "q1QLcm_EAQlH"
   },
   "source": [
    "### How do Objects vary? With VARI-ables"
   ]
  },
  {
   "cell_type": "code",
   "execution_count": 21,
   "metadata": {
    "colab": {},
    "colab_type": "code",
    "hidden": true,
    "id": "iMOfi61s3FU2"
   },
   "outputs": [],
   "source": [
    "#person has functions, certain things they can do - method is a function that is tied to that object\n",
    "#we are adding functions to robot class now\n",
    "#new mold of Robot \n",
    "\n",
    "class Robot():\n",
    "    name = None\n",
    "    material = 'Metal'\n",
    "    is_electric = True\n",
    "    num_of_arms = 2"
   ]
  },
  {
   "cell_type": "code",
   "execution_count": 24,
   "metadata": {
    "colab": {
     "base_uri": "https://localhost:8080/",
     "height": 119
    },
    "colab_type": "code",
    "hidden": true,
    "id": "pNJkmPe13zLz",
    "outputId": "11b61cce-ee67-4bec-9a3e-e1bdee909e4a"
   },
   "outputs": [
    {
     "name": "stdout",
     "output_type": "stream",
     "text": [
      "\n",
      "name: None\n",
      "material: Metal\n",
      "is_electric: True\n",
      "num_of_arms: 2\n",
      "\n"
     ]
    }
   ],
   "source": [
    "#pouring walle into the Robot mold\n",
    "walle = Robot()\n",
    "\n",
    "print(f'''\n",
    "name: {walle.name}\n",
    "material: {walle.material}\n",
    "is_electric: {walle.is_electric}\n",
    "num_of_arms: {walle.num_of_arms}\n",
    "''')\n",
    "  "
   ]
  },
  {
   "cell_type": "code",
   "execution_count": 25,
   "metadata": {
    "colab": {
     "base_uri": "https://localhost:8080/",
     "height": 136
    },
    "colab_type": "code",
    "hidden": true,
    "id": "r8d6QcfH32vK",
    "outputId": "4ec355de-9941-4c43-e085-64c033e0ae5c"
   },
   "outputs": [
    {
     "name": "stdout",
     "output_type": "stream",
     "text": [
      "\n",
      "name: Wall-E\n",
      "material: Metal\n",
      "is_electric: True\n",
      "num_of_arms: 2\n",
      "\n",
      "is_solar: True\n"
     ]
    }
   ],
   "source": [
    "# Changing an attribute, customizing\n",
    "walle.name = 'Wall-E'\n",
    "# Adding a new attribute even though it wasn't in the original mold\n",
    "walle.is_solar = True\n",
    "\n",
    "print(f'''\n",
    "name: {walle.name}\n",
    "material: {walle.material}\n",
    "is_electric: {walle.is_electric}\n",
    "num_of_arms: {walle.num_of_arms}\n",
    "''')\n",
    "  \n",
    "print(f'is_solar: {walle.is_solar}')"
   ]
  },
  {
   "cell_type": "markdown",
   "metadata": {
    "colab_type": "text",
    "hidden": true,
    "id": "odgi8E10AGuG"
   },
   "source": [
    "### Methods _are_ functions"
   ]
  },
  {
   "cell_type": "markdown",
   "metadata": {
    "colab_type": "text",
    "hidden": true,
    "id": "Q-fmUUzu9sY8"
   },
   "source": [
    "#### Class methods (belongs to the Class/mold)"
   ]
  },
  {
   "cell_type": "markdown",
   "metadata": {
    "colab_type": "text",
    "hidden": true,
    "id": "h-Fs0iZ0A-KW"
   },
   "source": [
    "##### Example Code\n"
   ]
  },
  {
   "cell_type": "code",
   "execution_count": 27,
   "metadata": {
    "colab": {},
    "colab_type": "code",
    "hidden": true,
    "id": "JWIZJRdq6sFf"
   },
   "outputs": [],
   "source": [
    "#class function belongs to the mold, defining a function with in a class. didn't create a robot, but mold holds this property\n",
    "class Robot():\n",
    "\n",
    "    laws_of_robotics = [\n",
    "        '1. First Law:\tA robot may not injure a human being or, through inaction, allow a human being to come to harm.',\n",
    "        '2. Second Law:\tA robot must obey the orders given it by human beings except where such orders would conflict with the First Law.',\n",
    "        '3. Third Law:\tA robot must protect its own existence as long as such protection does not conflict with the First or Second Laws.'\n",
    "    ]\n",
    "  \n",
    "    def print_laws():\n",
    "        for law in Robot.laws_of_robotics:\n",
    "            print(law)\n",
    "\n",
    "      \n",
    "    def print_n_law(n):\n",
    "        # Check the law exists\n",
    "        if n < 1 or n > 3:\n",
    "            print('The #{n} law doesn\\'t exist')\n",
    "            return\n",
    "\n",
    "        print(Robot.laws_of_robotics[n-1])\n",
    "    "
   ]
  },
  {
   "cell_type": "code",
   "execution_count": 28,
   "metadata": {
    "colab": {},
    "colab_type": "code",
    "hidden": true,
    "id": "FN8PpybD8Lj6"
   },
   "outputs": [
    {
     "data": {
      "text/plain": [
       "['1. First Law:\\tA robot may not injure a human being or, through inaction, allow a human being to come to harm.',\n",
       " '2. Second Law:\\tA robot must obey the orders given it by human beings except where such orders would conflict with the First Law.',\n",
       " '3. Third Law:\\tA robot must protect its own existence as long as such protection does not conflict with the First or Second Laws.']"
      ]
     },
     "execution_count": 28,
     "metadata": {},
     "output_type": "execute_result"
    }
   ],
   "source": [
    "Robot.laws_of_robotics"
   ]
  },
  {
   "cell_type": "code",
   "execution_count": 29,
   "metadata": {
    "colab": {},
    "colab_type": "code",
    "hidden": true,
    "id": "8KY_qHEb7A-k"
   },
   "outputs": [
    {
     "name": "stdout",
     "output_type": "stream",
     "text": [
      "1. First Law:\tA robot may not injure a human being or, through inaction, allow a human being to come to harm.\n",
      "2. Second Law:\tA robot must obey the orders given it by human beings except where such orders would conflict with the First Law.\n",
      "3. Third Law:\tA robot must protect its own existence as long as such protection does not conflict with the First or Second Laws.\n"
     ]
    }
   ],
   "source": [
    "Robot.print_laws()"
   ]
  },
  {
   "cell_type": "code",
   "execution_count": 30,
   "metadata": {
    "colab": {},
    "colab_type": "code",
    "hidden": true,
    "id": "kL89xcZs8QX7"
   },
   "outputs": [
    {
     "name": "stdout",
     "output_type": "stream",
     "text": [
      "2. Second Law:\tA robot must obey the orders given it by human beings except where such orders would conflict with the First Law.\n"
     ]
    }
   ],
   "source": [
    "Robot.print_n_law(2)"
   ]
  },
  {
   "cell_type": "markdown",
   "metadata": {
    "colab_type": "text",
    "hidden": true,
    "id": "2rfQ_v1B9zWi"
   },
   "source": [
    "##### Does Wall-E have these functions (methods)?"
   ]
  },
  {
   "cell_type": "code",
   "execution_count": 31,
   "metadata": {
    "colab": {},
    "colab_type": "code",
    "hidden": true,
    "id": "iXLCr2c-8cha"
   },
   "outputs": [],
   "source": [
    "# Note what happens with Wall-e\n",
    "walle = Robot()"
   ]
  },
  {
   "cell_type": "code",
   "execution_count": 32,
   "metadata": {
    "colab": {},
    "colab_type": "code",
    "hidden": true,
    "id": "IkemYPyI9mDy"
   },
   "outputs": [
    {
     "data": {
      "text/plain": [
       "['1. First Law:\\tA robot may not injure a human being or, through inaction, allow a human being to come to harm.',\n",
       " '2. Second Law:\\tA robot must obey the orders given it by human beings except where such orders would conflict with the First Law.',\n",
       " '3. Third Law:\\tA robot must protect its own existence as long as such protection does not conflict with the First or Second Laws.']"
      ]
     },
     "execution_count": 32,
     "metadata": {},
     "output_type": "execute_result"
    }
   ],
   "source": [
    "# Has the laws built in \n",
    "walle.laws_of_robotics"
   ]
  },
  {
   "cell_type": "code",
   "execution_count": 33,
   "metadata": {
    "colab": {},
    "colab_type": "code",
    "hidden": true,
    "id": "a6R5CNBr9mhw"
   },
   "outputs": [
    {
     "ename": "TypeError",
     "evalue": "print_laws() takes 0 positional arguments but 1 was given",
     "output_type": "error",
     "traceback": [
      "\u001b[0;31m---------------------------------------------------------------------------\u001b[0m",
      "\u001b[0;31mTypeError\u001b[0m                                 Traceback (most recent call last)",
      "\u001b[0;32m<ipython-input-33-ff44ad01a330>\u001b[0m in \u001b[0;36m<module>\u001b[0;34m()\u001b[0m\n\u001b[1;32m      1\u001b[0m \u001b[0;31m# Let's have Wall-E print out those laws too! (Wait, can he do that...?)\u001b[0m\u001b[0;34m\u001b[0m\u001b[0;34m\u001b[0m\u001b[0m\n\u001b[0;32m----> 2\u001b[0;31m \u001b[0mwalle\u001b[0m\u001b[0;34m.\u001b[0m\u001b[0mprint_laws\u001b[0m\u001b[0;34m(\u001b[0m\u001b[0;34m)\u001b[0m\u001b[0;34m\u001b[0m\u001b[0m\n\u001b[0m",
      "\u001b[0;31mTypeError\u001b[0m: print_laws() takes 0 positional arguments but 1 was given"
     ]
    }
   ],
   "source": [
    "# Let's have Wall-E print out those laws too! (Wait, can he do that...?) That function is only used on Robot, have to tie it to walle the object\n",
    "walle.print_laws()"
   ]
  },
  {
   "cell_type": "markdown",
   "metadata": {
    "colab_type": "text",
    "hidden": true,
    "id": "hXmKGmhlANy0"
   },
   "source": [
    "### Who me? Knowing yourSELF\n",
    "\n"
   ]
  },
  {
   "cell_type": "code",
   "execution_count": 34,
   "metadata": {
    "colab": {},
    "colab_type": "code",
    "hidden": true,
    "id": "3yyS7dKp3BNb"
   },
   "outputs": [],
   "source": [
    "#tie to object. self tells it that the function belongs to you, the object. functions that belong to the oject but can take in extra parameters\n",
    "\n",
    "class Robot():\n",
    "    name = None\n",
    "    material = 'Metal'\n",
    "    is_electric = True\n",
    "    num_of_arms = 2\n",
    "\n",
    "    # These methods belong to the Object (its self)\n",
    "    def speak(self):\n",
    "        print(f'I am {self.name}!')\n",
    "\n",
    "    def add_numbers(self, num0, num1):\n",
    "        total = num0 + num1\n",
    "        return total"
   ]
  },
  {
   "cell_type": "code",
   "execution_count": 35,
   "metadata": {
    "colab": {},
    "colab_type": "code",
    "hidden": true,
    "id": "AqBHlt_K5JTe"
   },
   "outputs": [
    {
     "name": "stdout",
     "output_type": "stream",
     "text": [
      "\n",
      "name: None\n",
      "material: Metal\n",
      "is_electric: True\n",
      "num_of_arms: 2\n",
      "\n",
      "I am None!\n"
     ]
    },
    {
     "data": {
      "text/plain": [
       "101"
      ]
     },
     "execution_count": 35,
     "metadata": {},
     "output_type": "execute_result"
    }
   ],
   "source": [
    "walle = Robot()\n",
    "\n",
    "print(f'''\n",
    "name: {walle.name}\n",
    "material: {walle.material}\n",
    "is_electric: {walle.is_electric}\n",
    "num_of_arms: {walle.num_of_arms}\n",
    "''')\n",
    "\n",
    "walle.speak()\n",
    "walle.add_numbers(100,1)"
   ]
  },
  {
   "cell_type": "code",
   "execution_count": 36,
   "metadata": {
    "colab": {},
    "colab_type": "code",
    "hidden": true,
    "id": "qpZozIdC5Rag"
   },
   "outputs": [
    {
     "name": "stdout",
     "output_type": "stream",
     "text": [
      "I am Wall-E!\n"
     ]
    }
   ],
   "source": [
    "# Changing an attribute\n",
    "walle.name = 'Wall-E'\n",
    "walle.speak()"
   ]
  },
  {
   "cell_type": "code",
   "execution_count": null,
   "metadata": {
    "colab": {},
    "colab_type": "code",
    "hidden": true,
    "id": "jYWk4v3j5fc_"
   },
   "outputs": [],
   "source": [
    "# Changing how Wall-E talks (a little more advanced) another variable\n",
    "walle.speak = lambda : print('Wwaaaalllll-eeeee!!!')\n",
    "walle.speak()"
   ]
  },
  {
   "cell_type": "markdown",
   "metadata": {
    "colab_type": "text",
    "hidden": true,
    "id": "3F4hBda4BLvO"
   },
   "source": [
    "> tl;dr: `self` is really a reference to the instantiated object\n"
   ]
  }
 ],
 "metadata": {
  "colab": {
   "collapsed_sections": [
    "_OUAUdF5-p-x",
    "xgb4UxV__jQT",
    "oREms3u3-Q6L",
    "LOSB70AC_F55",
    "TXLmvlT__K9y",
    "I6d-VcuulhDy",
    "Ee-dPiBt_UzL",
    "odgi8E10AGuG",
    "Q-fmUUzu9sY8",
    "h-Fs0iZ0A-KW",
    "2rfQ_v1B9zWi",
    "3F4hBda4BLvO",
    "Z96XWroW-Cz-",
    "5s6MKqg8-jSz",
    "CyRRUQXr-oyY",
    "nCiOGnK8BaBK",
    "1x7jUYEF82N6",
    "Y-3m3MHuBUCn",
    "G39MRWq7QTkG"
   ],
   "name": "intro_object_oriented_programming.ipynb",
   "provenance": [],
   "version": "0.3.2"
  },
  "kernelspec": {
   "display_name": "Python 3",
   "language": "python",
   "name": "python3"
  },
  "language_info": {
   "codemirror_mode": {
    "name": "ipython",
    "version": 3
   },
   "file_extension": ".py",
   "mimetype": "text/x-python",
   "name": "python",
   "nbconvert_exporter": "python",
   "pygments_lexer": "ipython3",
   "version": "3.7.0"
  },
  "toc": {
   "base_numbering": 1,
   "nav_menu": {},
   "number_sections": true,
   "sideBar": true,
   "skip_h1_title": false,
   "title_cell": "Table of Contents",
   "title_sidebar": "Contents",
   "toc_cell": false,
   "toc_position": {},
   "toc_section_display": true,
   "toc_window_display": false
  },
  "varInspector": {
   "cols": {
    "lenName": 16,
    "lenType": 16,
    "lenVar": 40
   },
   "kernels_config": {
    "python": {
     "delete_cmd_postfix": "",
     "delete_cmd_prefix": "del ",
     "library": "var_list.py",
     "varRefreshCmd": "print(var_dic_list())"
    },
    "r": {
     "delete_cmd_postfix": ") ",
     "delete_cmd_prefix": "rm(",
     "library": "var_list.r",
     "varRefreshCmd": "cat(var_dic_list()) "
    }
   },
   "types_to_exclude": [
    "module",
    "function",
    "builtin_function_or_method",
    "instance",
    "_Feature"
   ],
   "window_display": false
  }
 },
 "nbformat": 4,
 "nbformat_minor": 1
}
